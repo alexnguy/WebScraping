{
    "cells": [
        {
            "cell_type": "markdown",
            "metadata": {
                "collapsed": true
            },
            "source": "# WEB SCRAPING Lab"
        },
        {
            "cell_type": "markdown",
            "metadata": {},
            "source": "I am going to be using Python and several Python libraries such as Beautiful Soup, to find the top subscribed individual YouTube channels that are not backed by a big corporation or large team. Beautiful Soup is a library of Python that is designed for pulling data out of HTML and XML files. This is accomplished by representing the data that is pulled as a set of objects via parsing. This data can then be navigated as a tree and filter out what exactly we are looking for. In this lab I will be using HTML. "
        },
        {
            "cell_type": "code",
            "execution_count": 5,
            "metadata": {},
            "outputs": [
                {
                    "name": "stdout",
                    "output_type": "stream",
                    "text": "/usr/bin/sh: mamba: command not found\nCollecting lxml==4.6.4\n  Downloading lxml-4.6.4-cp39-cp39-manylinux_2_17_x86_64.manylinux2014_x86_64.manylinux_2_24_x86_64.whl (6.9 MB)\n\u001b[K     |\u2588\u2588\u2588\u2588\u2588\u2588\u2588\u2588\u2588\u2588\u2588\u2588\u2588\u2588\u2588\u2588\u2588\u2588\u2588\u2588\u2588\u2588\u2588\u2588\u2588\u2588\u2588\u2588\u2588\u2588\u2588\u2588| 6.9 MB 27.7 MB/s eta 0:00:01\n\u001b[?25hInstalling collected packages: lxml\n  Attempting uninstall: lxml\n    Found existing installation: lxml 4.7.1\n    Uninstalling lxml-4.7.1:\n      Successfully uninstalled lxml-4.7.1\nSuccessfully installed lxml-4.6.4\n/usr/bin/sh: mamba: command not found\n"
                }
            ],
            "source": "!mamba install bs4==4.10.0 -y\n!pip install lxml==4.6.4\n!mamba install html5lib==1.1 -y\n# !pip install requests==2.26.0"
        },
        {
            "cell_type": "code",
            "execution_count": 8,
            "metadata": {},
            "outputs": [],
            "source": "from bs4 import BeautifulSoup # this module helps in web scrapping.\nimport requests  # this module helps us to download a web page"
        },
        {
            "cell_type": "code",
            "execution_count": 29,
            "metadata": {},
            "outputs": [],
            "source": "# Let us consider the following HTML\n\n\n%% html\n<!DOCTYPE html>\n<html>\n<head>\n<title> Page Title </title>\n</head>\n<body>\n<h3><b id = \"boldest\"> Pewdiepie</b></h3>\n<p> Subscribers: 111,000,000 </p>\n<h3> MrBeast </h3>\n<p> Subscribers:92,100,000 </p>\n<h3> Kids Diana Show </h3>\n<p> Subscribers: 91,900,000 </p>\n</body>\n</html>"
        },
        {
            "cell_type": "code",
            "execution_count": 30,
            "metadata": {},
            "outputs": [],
            "source": "# We can store the information as a string in the variable labeled html\n\nhtml =\"<!DOCTYPE html><html><head><title>Page Title</title></head><body><h3><b id='boldest'>PewDiePie</b></h3><p> Subscribers: 111,000,000 </p><h3> MrBeast</h3><p> Subscribers: 92,100, 000 </p><h3> Kids Diana Show </h3><p> Subscribers: 91,900, 000</p></body></html>\""
        },
        {
            "cell_type": "code",
            "execution_count": 31,
            "metadata": {},
            "outputs": [],
            "source": "# To pasre a document,we pass it through the BeautifulSoup constructor\n\nsoup = BeautifulSoup(html, \"html.parser\")"
        },
        {
            "cell_type": "code",
            "execution_count": 32,
            "metadata": {},
            "outputs": [
                {
                    "name": "stdout",
                    "output_type": "stream",
                    "text": "<!DOCTYPE html>\n<html>\n <head>\n  <title>\n   Page Title\n  </title>\n </head>\n <body>\n  <h3>\n   <b id=\"boldest\">\n    PewDiePie\n   </b>\n  </h3>\n  <p>\n   Subscribers: 111,000,000\n  </p>\n  <h3>\n   MrBeast\n  </h3>\n  <p>\n   Subscribers: 92,100, 000\n  </p>\n  <h3>\n   Kids Diana Show\n  </h3>\n  <p>\n   Subscribers: 91,900, 000\n  </p>\n </body>\n</html>\n"
                }
            ],
            "source": "# We can use the method prettify() to display HTML in a nested structure\n\nprint(soup.prettify())"
        },
        {
            "cell_type": "markdown",
            "metadata": {},
            "source": "### Tags"
        },
        {
            "cell_type": "markdown",
            "metadata": {},
            "source": "The Tag object can be used to find the title of the page and the number one subscribed channel based on our criteria"
        },
        {
            "cell_type": "code",
            "execution_count": 33,
            "metadata": {},
            "outputs": [
                {
                    "name": "stdout",
                    "output_type": "stream",
                    "text": "tag object: <title>Page Title</title>\n"
                }
            ],
            "source": "tag_object = soup.title\nprint('tag object:', tag_object)"
        },
        {
            "cell_type": "code",
            "execution_count": 37,
            "metadata": {},
            "outputs": [
                {
                    "name": "stdout",
                    "output_type": "stream",
                    "text": "tag object type: <class 'bs4.element.Tag'>\n"
                }
            ],
            "source": "# We can also see the tag type\n\nprint(\"tag object type:\",type(tag_object))"
        },
        {
            "cell_type": "code",
            "execution_count": 39,
            "metadata": {},
            "outputs": [
                {
                    "data": {
                        "text/plain": "<h3><b id=\"boldest\">PewDiePie</b></h3>"
                    },
                    "execution_count": 39,
                    "metadata": {},
                    "output_type": "execute_result"
                }
            ],
            "source": "# If there is more than one tag with the same name, the first element with that tag name is called\n\ntag_object = soup.h3\ntag_object"
        },
        {
            "cell_type": "markdown",
            "metadata": {},
            "source": "### Children, Parents, and Siblings"
        },
        {
            "cell_type": "code",
            "execution_count": 40,
            "metadata": {},
            "outputs": [
                {
                    "data": {
                        "text/plain": "<b id=\"boldest\">PewDiePie</b>"
                    },
                    "execution_count": 40,
                    "metadata": {},
                    "output_type": "execute_result"
                }
            ],
            "source": "# We can navigate the tag tree and find the child\n\ntag_child = tag_object.b\ntag_child\n\n#b is the child of h3\n"
        },
        {
            "cell_type": "code",
            "execution_count": 41,
            "metadata": {},
            "outputs": [
                {
                    "data": {
                        "text/plain": "<h3><b id=\"boldest\">PewDiePie</b></h3>"
                    },
                    "execution_count": 41,
                    "metadata": {},
                    "output_type": "execute_result"
                }
            ],
            "source": "# Parent tag\n\nparent_tag = tag_child.parent\nparent_tag"
        },
        {
            "cell_type": "code",
            "execution_count": 43,
            "metadata": {},
            "outputs": [
                {
                    "data": {
                        "text/plain": "<h3><b id=\"boldest\">PewDiePie</b></h3>"
                    },
                    "execution_count": 43,
                    "metadata": {},
                    "output_type": "execute_result"
                }
            ],
            "source": "tag_object"
        },
        {
            "cell_type": "code",
            "execution_count": 42,
            "metadata": {},
            "outputs": [
                {
                    "data": {
                        "text/plain": "<body><h3><b id=\"boldest\">PewDiePie</b></h3><p> Subscribers: 111,000,000 </p><h3> MrBeast</h3><p> Subscribers: 92,100, 000 </p><h3> Kids Diana Show </h3><p> Subscribers: 91,900, 000</p></body>"
                    },
                    "execution_count": 42,
                    "metadata": {},
                    "output_type": "execute_result"
                }
            ],
            "source": "# We can also find the body element\n\ntag_object.parent"
        },
        {
            "cell_type": "code",
            "execution_count": 46,
            "metadata": {},
            "outputs": [
                {
                    "data": {
                        "text/plain": "<p> Subscribers: 111,000,000 </p>"
                    },
                    "execution_count": 46,
                    "metadata": {},
                    "output_type": "execute_result"
                }
            ],
            "source": "# Sibling is the paragraph element \n\nsibling_1 = tag_object.next_sibling\nsibling_1"
        },
        {
            "cell_type": "code",
            "execution_count": 47,
            "metadata": {},
            "outputs": [
                {
                    "data": {
                        "text/plain": "<h3> MrBeast</h3>"
                    },
                    "execution_count": 47,
                    "metadata": {},
                    "output_type": "execute_result"
                }
            ],
            "source": "sibling_2 = sibling_1.next_sibling\nsibling_2"
        },
        {
            "cell_type": "markdown",
            "metadata": {},
            "source": "### HTML Attributes"
        },
        {
            "cell_type": "markdown",
            "metadata": {},
            "source": "If a tag has attributes, the tag id = \"boldest\" had the attribute id whose value is boldest. We can access the attributes of a tag by treating the taf like a dict."
        },
        {
            "cell_type": "code",
            "execution_count": 48,
            "metadata": {},
            "outputs": [
                {
                    "data": {
                        "text/plain": "'boldest'"
                    },
                    "execution_count": 48,
                    "metadata": {},
                    "output_type": "execute_result"
                }
            ],
            "source": "tag_child[\"id\"]"
        },
        {
            "cell_type": "code",
            "execution_count": 49,
            "metadata": {},
            "outputs": [
                {
                    "data": {
                        "text/plain": "{'id': 'boldest'}"
                    },
                    "execution_count": 49,
                    "metadata": {},
                    "output_type": "execute_result"
                }
            ],
            "source": "# Dictionary access\n\ntag_child.attrs"
        },
        {
            "cell_type": "code",
            "execution_count": 50,
            "metadata": {},
            "outputs": [
                {
                    "data": {
                        "text/plain": "'boldest'"
                    },
                    "execution_count": 50,
                    "metadata": {},
                    "output_type": "execute_result"
                }
            ],
            "source": "#The get method also works to access the content\n\ntag_child.get(\"id\")"
        },
        {
            "cell_type": "markdown",
            "metadata": {},
            "source": "### Navigable String"
        },
        {
            "cell_type": "markdown",
            "metadata": {},
            "source": "BeautifulSoup uses the NavigableString class to contain a string that is contained as text."
        },
        {
            "cell_type": "code",
            "execution_count": 51,
            "metadata": {},
            "outputs": [
                {
                    "data": {
                        "text/plain": "'PewDiePie'"
                    },
                    "execution_count": 51,
                    "metadata": {},
                    "output_type": "execute_result"
                }
            ],
            "source": "tag_string = tag_child.string\ntag_string"
        },
        {
            "cell_type": "code",
            "execution_count": 52,
            "metadata": {},
            "outputs": [
                {
                    "data": {
                        "text/plain": "bs4.element.NavigableString"
                    },
                    "execution_count": 52,
                    "metadata": {},
                    "output_type": "execute_result"
                }
            ],
            "source": "# We can verify that the type is Navigable String\n\ntype(tag_string)"
        },
        {
            "cell_type": "code",
            "execution_count": 53,
            "metadata": {},
            "outputs": [
                {
                    "data": {
                        "text/plain": "'PewDiePie'"
                    },
                    "execution_count": 53,
                    "metadata": {},
                    "output_type": "execute_result"
                }
            ],
            "source": "# A NavigableString is just like a Unicode string and we can convert it to a string object\n\nunicode_string = str(tag_string)\nunicode_string"
        },
        {
            "cell_type": "markdown",
            "metadata": {},
            "source": "### Filter"
        },
        {
            "cell_type": "markdown",
            "metadata": {},
            "source": "Filtering allows us to find the complex patterns we need to know in order to mess with and interpret the data. Condifer the following HTML of GDP."
        },
        {
            "cell_type": "code",
            "execution_count": 54,
            "metadata": {},
            "outputs": [
                {
                    "data": {
                        "text/html": "<table>\n    <tr>\n        <td id = \"Rank\" > GDP Rank </td>\n        <td>Country</td>\n        <td> GDP</td>\n        </tr>\n        <tr>\n        <td>1</td>\n        <td><a href =\"https://en.wikipedia.org/wiki/United_States\">United States</a></td>\n        <td>20.89 trillion</td>\n        </tr>\n        <tr>\n        <td>2</td>\n        <td><a href = \"https://en.wikipedia.org/wiki/China\">China</a></td>\n        <td>14.72 trillion</td>\n        </tr>\n        <tr>\n        <td>3</td>\n        <td><a href = \"https://en.wikipedia.org/wiki/Japan\">Japan</a></td>\n        <td>5.07 trillion</td>\n        </tr>\n    </table>\n",
                        "text/plain": "<IPython.core.display.HTML object>"
                    },
                    "metadata": {},
                    "output_type": "display_data"
                }
            ],
            "source": "%%html\n<table>\n    <tr>\n        <td id = \"Rank\" > GDP Rank </td>\n        <td>Country</td>\n        <td> GDP</td>\n        </tr>\n        <tr>\n        <td>1</td>\n        <td><a href =\"https://en.wikipedia.org/wiki/United_States\">United States</a></td>\n        <td>20.89 trillion</td>\n        </tr>\n        <tr>\n        <td>2</td>\n        <td><a href = \"https://en.wikipedia.org/wiki/China\">China</a></td>\n        <td>14.72 trillion</td>\n        </tr>\n        <tr>\n        <td>3</td>\n        <td><a href = \"https://en.wikipedia.org/wiki/Japan\">Japan</a></td>\n        <td>5.07 trillion</td>\n        </tr>\n    </table>"
        },
        {
            "cell_type": "code",
            "execution_count": 66,
            "metadata": {},
            "outputs": [],
            "source": "# We can store it a as a string \n\ntable = '<table><tr><td id = \"Rank\" > GDP Rank </td><td>Country</td><td> GDP</td></tr><tr><td>1</td><td><a href =\"https://en.wikipedia.org/wiki/United_States\">United States</a></td><td>20.89 trillion</td></tr><tr><td>2</td><td><a href = \"https://en.wikipedia.org/wiki/China\">China</a></td><td>14.72 trillion</td></tr><tr><td>3</td><td><a href = \"https://en.wikipedia.org/wiki/Japan\">Japan</a></td><td>5.07 trillion</td></tr></table>'"
        },
        {
            "cell_type": "code",
            "execution_count": 67,
            "metadata": {},
            "outputs": [],
            "source": "table_bs = BeautifulSoup(table,\"html.parser\")"
        },
        {
            "cell_type": "markdown",
            "metadata": {},
            "source": "### Find All"
        },
        {
            "cell_type": "markdown",
            "metadata": {},
            "source": "We can use the find all method to look at information that matches our filters"
        },
        {
            "cell_type": "code",
            "execution_count": 76,
            "metadata": {},
            "outputs": [
                {
                    "data": {
                        "text/plain": "[<tr><td id=\"Rank\"> GDP Rank </td><td>Country</td><td> GDP</td></tr>,\n <tr><td>1</td><td><a href=\"https://en.wikipedia.org/wiki/United_States\">United States</a></td><td>20.89 trillion</td></tr>,\n <tr><td>2</td><td><a href=\"https://en.wikipedia.org/wiki/China\">China</a></td><td>14.72 trillion</td></tr>,\n <tr><td>3</td><td><a href=\"https://en.wikipedia.org/wiki/Japan\">Japan</a></td><td>5.07 trillion</td></tr>]"
                    },
                    "execution_count": 76,
                    "metadata": {},
                    "output_type": "execute_result"
                }
            ],
            "source": "table_rows=table_bs.find_all(\"tr\")\ntable_rows"
        },
        {
            "cell_type": "code",
            "execution_count": 77,
            "metadata": {},
            "outputs": [
                {
                    "data": {
                        "text/plain": "<tr><td id=\"Rank\"> GDP Rank </td><td>Country</td><td> GDP</td></tr>"
                    },
                    "execution_count": 77,
                    "metadata": {},
                    "output_type": "execute_result"
                }
            ],
            "source": "first_row=table_rows[0]\nfirst_row"
        },
        {
            "cell_type": "code",
            "execution_count": 78,
            "metadata": {},
            "outputs": [
                {
                    "name": "stdout",
                    "output_type": "stream",
                    "text": "<class 'bs4.element.Tag'>\n"
                }
            ],
            "source": "print(type(first_row))"
        },
        {
            "cell_type": "code",
            "execution_count": 79,
            "metadata": {},
            "outputs": [
                {
                    "data": {
                        "text/plain": "<td id=\"Rank\"> GDP Rank </td>"
                    },
                    "execution_count": 79,
                    "metadata": {},
                    "output_type": "execute_result"
                }
            ],
            "source": "first_row.td"
        },
        {
            "cell_type": "code",
            "execution_count": 80,
            "metadata": {},
            "outputs": [
                {
                    "name": "stdout",
                    "output_type": "stream",
                    "text": "row 0 is <tr><td id=\"Rank\"> GDP Rank </td><td>Country</td><td> GDP</td></tr>\nrow 1 is <tr><td>1</td><td><a href=\"https://en.wikipedia.org/wiki/United_States\">United States</a></td><td>20.89 trillion</td></tr>\nrow 2 is <tr><td>2</td><td><a href=\"https://en.wikipedia.org/wiki/China\">China</a></td><td>14.72 trillion</td></tr>\nrow 3 is <tr><td>3</td><td><a href=\"https://en.wikipedia.org/wiki/Japan\">Japan</a></td><td>5.07 trillion</td></tr>\n"
                }
            ],
            "source": "# If we iterate through the list, each element corresponds to a row in the table\n\nfor i,row in enumerate(table_rows):\n    print(\"row\",i,\"is\",row)"
        },
        {
            "cell_type": "code",
            "execution_count": 81,
            "metadata": {},
            "outputs": [
                {
                    "name": "stdout",
                    "output_type": "stream",
                    "text": "row 0\ncolumn 0 cell <td id=\"Rank\"> GDP Rank </td>\ncolumn 1 cell <td>Country</td>\ncolumn 2 cell <td> GDP</td>\nrow 1\ncolumn 0 cell <td>1</td>\ncolumn 1 cell <td><a href=\"https://en.wikipedia.org/wiki/United_States\">United States</a></td>\ncolumn 2 cell <td>20.89 trillion</td>\nrow 2\ncolumn 0 cell <td>2</td>\ncolumn 1 cell <td><a href=\"https://en.wikipedia.org/wiki/China\">China</a></td>\ncolumn 2 cell <td>14.72 trillion</td>\nrow 3\ncolumn 0 cell <td>3</td>\ncolumn 1 cell <td><a href=\"https://en.wikipedia.org/wiki/Japan\">Japan</a></td>\ncolumn 2 cell <td>5.07 trillion</td>\n"
                }
            ],
            "source": "for i,row in enumerate(table_rows):\n    print(\"row\",i)\n    cells=row.find_all(\"td\")\n    for j,cell in enumerate (cells):\n        print(\"column\",j,\"cell\",cell)"
        },
        {
            "cell_type": "code",
            "execution_count": 82,
            "metadata": {},
            "outputs": [
                {
                    "data": {
                        "text/plain": "[<tr><td id=\"Rank\"> GDP Rank </td><td>Country</td><td> GDP</td></tr>,\n <td id=\"Rank\"> GDP Rank </td>,\n <td>Country</td>,\n <td> GDP</td>,\n <tr><td>1</td><td><a href=\"https://en.wikipedia.org/wiki/United_States\">United States</a></td><td>20.89 trillion</td></tr>,\n <td>1</td>,\n <td><a href=\"https://en.wikipedia.org/wiki/United_States\">United States</a></td>,\n <td>20.89 trillion</td>,\n <tr><td>2</td><td><a href=\"https://en.wikipedia.org/wiki/China\">China</a></td><td>14.72 trillion</td></tr>,\n <td>2</td>,\n <td><a href=\"https://en.wikipedia.org/wiki/China\">China</a></td>,\n <td>14.72 trillion</td>,\n <tr><td>3</td><td><a href=\"https://en.wikipedia.org/wiki/Japan\">Japan</a></td><td>5.07 trillion</td></tr>,\n <td>3</td>,\n <td><a href=\"https://en.wikipedia.org/wiki/Japan\">Japan</a></td>,\n <td>5.07 trillion</td>]"
                    },
                    "execution_count": 82,
                    "metadata": {},
                    "output_type": "execute_result"
                }
            ],
            "source": "# If we use a list we can match any item in that list\n\nlist_input = table_bs.find_all(name=[\"tr\", \"td\"])\nlist_input"
        },
        {
            "cell_type": "markdown",
            "metadata": {},
            "source": "### Attributes"
        },
        {
            "cell_type": "markdown",
            "metadata": {},
            "source": "If the argument is not recognized it will be turned into a filter on the tag's attributes."
        },
        {
            "cell_type": "code",
            "execution_count": 85,
            "metadata": {},
            "outputs": [
                {
                    "data": {
                        "text/plain": "[<td id=\"Rank\"> GDP Rank </td>]"
                    },
                    "execution_count": 85,
                    "metadata": {},
                    "output_type": "execute_result"
                }
            ],
            "source": "table_bs.find_all(id= \"Rank\")"
        },
        {
            "cell_type": "code",
            "execution_count": 87,
            "metadata": {},
            "outputs": [
                {
                    "data": {
                        "text/plain": "[<a href=\"https://en.wikipedia.org/wiki/United_States\">United States</a>]"
                    },
                    "execution_count": 87,
                    "metadata": {},
                    "output_type": "execute_result"
                }
            ],
            "source": "# We can find the elements that have links to the United State Wiki\n\nlist_input = table_bs.find_all(href=\"https://en.wikipedia.org/wiki/United_States\")\nlist_input"
        },
        {
            "cell_type": "code",
            "execution_count": 89,
            "metadata": {},
            "outputs": [
                {
                    "data": {
                        "text/plain": "[<a href=\"https://en.wikipedia.org/wiki/United_States\">United States</a>,\n <a href=\"https://en.wikipedia.org/wiki/China\">China</a>,\n <a href=\"https://en.wikipedia.org/wiki/Japan\">Japan</a>]"
                    },
                    "execution_count": 89,
                    "metadata": {},
                    "output_type": "execute_result"
                }
            ],
            "source": "# If we set href to true it will find all links\n\nlist_input = table_bs.find_all(href=True)\nlist_input"
        },
        {
            "cell_type": "code",
            "execution_count": 92,
            "metadata": {},
            "outputs": [
                {
                    "data": {
                        "text/plain": "[<table><tr><td id=\"Rank\"> GDP Rank </td><td>Country</td><td> GDP</td></tr><tr><td>1</td><td><a href=\"https://en.wikipedia.org/wiki/United_States\">United States</a></td><td>20.89 trillion</td></tr><tr><td>2</td><td><a href=\"https://en.wikipedia.org/wiki/China\">China</a></td><td>14.72 trillion</td></tr><tr><td>3</td><td><a href=\"https://en.wikipedia.org/wiki/Japan\">Japan</a></td><td>5.07 trillion</td></tr></table>,\n <tr><td id=\"Rank\"> GDP Rank </td><td>Country</td><td> GDP</td></tr>,\n <td id=\"Rank\"> GDP Rank </td>,\n <td>Country</td>,\n <td> GDP</td>,\n <tr><td>1</td><td><a href=\"https://en.wikipedia.org/wiki/United_States\">United States</a></td><td>20.89 trillion</td></tr>,\n <td>1</td>,\n <td><a href=\"https://en.wikipedia.org/wiki/United_States\">United States</a></td>,\n <a href=\"https://en.wikipedia.org/wiki/United_States\">United States</a>,\n <td>20.89 trillion</td>,\n <tr><td>2</td><td><a href=\"https://en.wikipedia.org/wiki/China\">China</a></td><td>14.72 trillion</td></tr>,\n <td>2</td>,\n <td><a href=\"https://en.wikipedia.org/wiki/China\">China</a></td>,\n <a href=\"https://en.wikipedia.org/wiki/China\">China</a>,\n <td>14.72 trillion</td>,\n <tr><td>3</td><td><a href=\"https://en.wikipedia.org/wiki/Japan\">Japan</a></td><td>5.07 trillion</td></tr>,\n <td>3</td>,\n <td><a href=\"https://en.wikipedia.org/wiki/Japan\">Japan</a></td>,\n <a href=\"https://en.wikipedia.org/wiki/Japan\">Japan</a>,\n <td>5.07 trillion</td>]"
                    },
                    "execution_count": 92,
                    "metadata": {},
                    "output_type": "execute_result"
                }
            ],
            "source": "list_input = table_bs.find_all(\"https\" == True)\nlist_input"
        },
        {
            "cell_type": "code",
            "execution_count": 93,
            "metadata": {},
            "outputs": [
                {
                    "data": {
                        "text/plain": "['United States']"
                    },
                    "execution_count": 93,
                    "metadata": {},
                    "output_type": "execute_result"
                }
            ],
            "source": "# We can also search for strings instead of tags\n\ntable_bs.find_all(string=\"United States\")"
        },
        {
            "cell_type": "markdown",
            "metadata": {},
            "source": "### Downloading and Scraping the Contents of a Web Page"
        },
        {
            "cell_type": "code",
            "execution_count": 110,
            "metadata": {},
            "outputs": [],
            "source": "# We can down the contents of the following web page\n\nurl = \"https://www.reddit.com/\"\n\n# The get method is used to download in text format\n\ndata = requests.get(url).text"
        },
        {
            "cell_type": "code",
            "execution_count": 111,
            "metadata": {},
            "outputs": [],
            "source": "# Creat a BeautifulSoup object\n\nsoup = BeautifulSoup(data,\"html.parser\")"
        },
        {
            "cell_type": "code",
            "execution_count": 112,
            "metadata": {},
            "outputs": [
                {
                    "name": "stdout",
                    "output_type": "stream",
                    "text": "/\nhttps://ads.reddit.com?utm_source=d2x_consumer&utm_name=top_nav_cta\nhttps://www.reddit.com/login/?dest=https%3A%2F%2Fwww.reddit.com%2F\nhttps://www.reddit.com/register/?dest=https%3A%2F%2Fwww.reddit.com%2F\n/hot/\n/new/\n/top/\n/rising/\n/hot/\n/new/\n/top/\n/rising/\n/r/Damnthatsinteresting/\nhttps://www.reddit.com/r/Damnthatsinteresting/comments/tjqoh3/ukrainian_troops_are_now_deploying_panzerfaust3it/\n/r/Damnthatsinteresting/comments/tjqoh3/ukrainian_troops_are_now_deploying_panzerfaust3it/\n/r/Damnthatsinteresting/?f=flair_name%3A%22Image%22\n/r/Damnthatsinteresting/comments/tjqoh3/ukrainian_troops_are_now_deploying_panzerfaust3it/\n/r/Damnthatsinteresting/comments/tjqoh3/ukrainian_troops_are_now_deploying_panzerfaust3it/\n/r/funny/\nhttps://www.reddit.com/r/funny/comments/tjpeji/i_spotted_the_cameras_during_my_graduation/\n/r/funny/comments/tjpeji/i_spotted_the_cameras_during_my_graduation/\n/r/funny/comments/tjpeji/i_spotted_the_cameras_during_my_graduation/\n/r/funny/comments/tjpeji/i_spotted_the_cameras_during_my_graduation/\n/r/AskReddit/\nhttps://www.reddit.com/r/AskReddit/comments/tjk4lq/what_is_a_movie_that_you_consider_to_be_as/\n/r/AskReddit/comments/tjk4lq/what_is_a_movie_that_you_consider_to_be_as/\n/r/AskReddit/comments/tjk4lq/what_is_a_movie_that_you_consider_to_be_as/\n/r/facepalm/\nhttps://www.reddit.com/r/facepalm/comments/tjk8yt/laughs_in_frozone/\n/r/facepalm/comments/tjk8yt/laughs_in_frozone/\n/r/facepalm/?f=flair_name%3A%22%3AMisc%3A%20%F0%9F%87%B2%E2%80%8B%F0%9F%87%AE%E2%80%8B%F0%9F%87%B8%E2%80%8B%F0%9F%87%A8%E2%80%8B%22\n/r/facepalm/comments/tjk8yt/laughs_in_frozone/\n/r/facepalm/comments/tjk8yt/laughs_in_frozone/\n/r/nextfuckinglevel/\nhttps://www.reddit.com/r/nextfuckinglevel/comments/tjrw6c/from_savage_to_best_friend/\n/r/nextfuckinglevel/comments/tjrw6c/from_savage_to_best_friend/\n/r/nextfuckinglevel/comments/tjrw6c/from_savage_to_best_friend/\n/r/MurderedByWords/\nhttps://www.reddit.com/r/MurderedByWords/comments/tjjks7/swing_and_a_miss/\n/r/MurderedByWords/comments/tjjks7/swing_and_a_miss/\n/r/MurderedByWords/comments/tjjks7/swing_and_a_miss/\n/r/MurderedByWords/comments/tjjks7/swing_and_a_miss/\nhttps://www.reddithelp.com\nhttps://www.reddit.com/coins\nhttps://www.reddit.com/premium\nhttps://www.reddit.com/subreddits/a-1/\nhttps://www.reddit.com/posts/2021/\nhttps://www.reddit.com/topics/a-1/\nhttps://about.reddit.com\nhttps://about.reddit.com/careers/\nhttps://about.reddit.com/press/\nhttps://www.redditinc.com/advertising\nhttp://www.redditblog.com/\nhttps://www.redditinc.com/policies/user-agreement\nhttps://www.redditinc.com/policies/content-policy\nhttps://www.redditinc.com/policies/privacy-policy\nhttps://www.reddit.com/help/healthycommunities/\n"
                }
            ],
            "source": "# Scrape all links\n\nfor link in soup.find_all(\"a\", href = True):\n    print(link.get(\"href\"))"
        },
        {
            "cell_type": "markdown",
            "metadata": {},
            "source": "### Scrape all images Tags"
        },
        {
            "cell_type": "code",
            "execution_count": 113,
            "metadata": {},
            "outputs": [
                {
                    "name": "stdout",
                    "output_type": "stream",
                    "text": "<img class=\"_3BcAFuYpz37S0WFvgyWCUN\" src=\"data:image/png;base64,iVBORw0KGgoAAAANSUhEUgAAADAAAAAwCAYAAABXAvmHAAAE9 0lEQVRoQ9WYW0hlZRTHf94TIXXAYRQzQwmFQQSVYSZ6UlESH+whRxMDX6IHJ1AQCXFQkSFUCIUeCkETUx/CF1FB8ClNpFFEX8T UKWkyxgFngjRvJ9Z278Pe57Yv51Kul33O3mut7/9fa32X9UVxwyXqhuMn0gR+BbJ0QfsU+CaYIEaSgEuAulzKQ3lGR0fLzzngA 6ckIkpAA68HGxWlQHCMw7Ghg4i5AhBIBE4d+HTO3OZgscB5bW0tk5OTbtPV1VXu3bv3v8/AZ8DXwAmQODw8TFNTE0dHR6SlpWl kHFeCY0MLGSgE1lW9D4Fp4AdAfmvyO5BpwZdflVATuF5ijJIAnAUDMpBtuAhIYa+GC7RhFQvxIFoGQh2YiJXQR8AU8C6wE+Lg+ HQXjkhFNAvhICCREhLh8m3IRLgGEQIXgGxgmqwA3wHfqt9CUmGhIvAe8KMDRPGyQzuwc5sES+AXIEe8tbS0MDAwYAnL2dkZt2/ f5tWrV5p+nNOsmBH4EmjzgeoKiE5ISOD01NEZzO3y6uqKmJgY7X8S8DdwB/hDffkx8L2/yPgj0AwMipGAfPjwIS9fvmRmZsbtx 9fJ0lL4/Sitra1RVFQUyMUn6hwyncTPgLcrKyuZm5Ne41ok3SkpKVRVVRmIBAPal63aH7gbH9GJj4/n/FyZKk+AL/R2nhmQqDf v7++TnZ3t1uvu7ubx48dsbGxQUFAQasxe/pKSkpQ5Ijg0SUxM1MrVgFn/R35fNTQ0MDY25jZ8/fo1ycnJHB8fK89Iya1bt9ja2 iIjI8M9pJYd/R6jJ2DoWTUrMRocHKS5WaZFZEWifnIibcS1TE1NKfPRLwH5ODEx4TY4PDwkKysLWfb+K6mpqWF6WlqJa/HsoQ0 ZCPXKEg7SISOQk5PD3t6eAePFxYV+TTfFr6tpRXd0dJTGxsaAdgEJLC0t8eDBA8WBbDDqvY2Xw9jYWC4vL5X3vb29jIyMsLNzf Xq2mkUNfGdnJ11dXVppBLRva2ujr6+vF+hwl5QOnUsAa8BkAF9gdnd3yc3N5e7du2xubhrIic3CwgJlZWWm0ZcgSMb0Ivb3799 neXnZy97XCmSYzerMvtJA+yPga6MxRWtDQUgJOU9Rx5U7mToDaQ9FWbPekPLRbRwGlbq6OsNKZQNbUKr+bvB8nYX+kd1bDlieK Q4KQZDGdggoc9HOhAyETXZTqWk5tebn51NeXu6Iil0CcpS9Y3VF0SNKTU1Vjh1WRGpdPaQFVC8uLubp06ey7HlNDn/HaeV2wS4 Bz3XdCgkrY6h+ZX3/yWtyBxjEVVJSglzAWpUwE/AZ7EAdme15sL29TV5enlW+dHR00NPTE1C/tLSUxcVF2fKV1tVOBt4B9trb2 3nyRPoIa2InCzbKx2+gzXpi21kQmlZIyF5jpqd+l/74T3/hMyPgaEl98eKF0lH5k/X1dQoL5fbdv1RXV0vr+jNQEkjPCgFHJMR IQEobqklmZiYHBwemtSh99+zsrJJMM2VTBZ0DpZwqKiqYn5838+v4e1xcnHYCsITNkpIOzbZ688zz589JT093DNTTcGVlRTmJq jd871t1bJeA5lfOwcptVH9/P62trVbH89IbHx9HLhJUsY3HtoEHgt+At7R39fX1CCAzGRoa4tGjR3q1N4G/zOx8fQ+WgN7n58B XNkAIgyEb+j5VQ0kgWCyO7G88gX8BA0iEQE02M2MAAAAASUVORK5CYII=\"/>\ndata:image/png;base64,iVBORw0KGgoAAAANSUhEUgAAADAAAAAwCAYAAABXAvmHAAAE9 0lEQVRoQ9WYW0hlZRTHf94TIXXAYRQzQwmFQQSVYSZ6UlESH+whRxMDX6IHJ1AQCXFQkSFUCIUeCkETUx/CF1FB8ClNpFFEX8T UKWkyxgFngjRvJ9Z278Pe57Yv51Kul33O3mut7/9fa32X9UVxwyXqhuMn0gR+BbJ0QfsU+CaYIEaSgEuAulzKQ3lGR0fLzzngA 6ckIkpAA68HGxWlQHCMw7Ghg4i5AhBIBE4d+HTO3OZgscB5bW0tk5OTbtPV1VXu3bv3v8/AZ8DXwAmQODw8TFNTE0dHR6SlpWl kHFeCY0MLGSgE1lW9D4Fp4AdAfmvyO5BpwZdflVATuF5ijJIAnAUDMpBtuAhIYa+GC7RhFQvxIFoGQh2YiJXQR8AU8C6wE+Lg+ HQXjkhFNAvhICCREhLh8m3IRLgGEQIXgGxgmqwA3wHfqt9CUmGhIvAe8KMDRPGyQzuwc5sES+AXIEe8tbS0MDAwYAnL2dkZt2/ f5tWrV5p+nNOsmBH4EmjzgeoKiE5ISOD01NEZzO3y6uqKmJgY7X8S8DdwB/hDffkx8L2/yPgj0AwMipGAfPjwIS9fvmRmZsbtx 9fJ0lL4/Sitra1RVFQUyMUn6hwyncTPgLcrKyuZm5Ne41ok3SkpKVRVVRmIBAPal63aH7gbH9GJj4/n/FyZKk+AL/R2nhmQqDf v7++TnZ3t1uvu7ubx48dsbGxQUFAQasxe/pKSkpQ5Ijg0SUxM1MrVgFn/R35fNTQ0MDY25jZ8/fo1ycnJHB8fK89Iya1bt9ja2 iIjI8M9pJYd/R6jJ2DoWTUrMRocHKS5WaZFZEWifnIibcS1TE1NKfPRLwH5ODEx4TY4PDwkKysLWfb+K6mpqWF6WlqJa/HsoQ0 ZCPXKEg7SISOQk5PD3t6eAePFxYV+TTfFr6tpRXd0dJTGxsaAdgEJLC0t8eDBA8WBbDDqvY2Xw9jYWC4vL5X3vb29jIyMsLNzf Xq2mkUNfGdnJ11dXVppBLRva2ujr6+vF+hwl5QOnUsAa8BkAF9gdnd3yc3N5e7du2xubhrIic3CwgJlZWWm0ZcgSMb0Ivb3799 neXnZy97XCmSYzerMvtJA+yPga6MxRWtDQUgJOU9Rx5U7mToDaQ9FWbPekPLRbRwGlbq6OsNKZQNbUKr+bvB8nYX+kd1bDlieK Q4KQZDGdggoc9HOhAyETXZTqWk5tebn51NeXu6Iil0CcpS9Y3VF0SNKTU1Vjh1WRGpdPaQFVC8uLubp06ey7HlNDn/HaeV2wS4 Bz3XdCgkrY6h+ZX3/yWtyBxjEVVJSglzAWpUwE/AZ7EAdme15sL29TV5enlW+dHR00NPTE1C/tLSUxcVF2fKV1tVOBt4B9trb2 3nyRPoIa2InCzbKx2+gzXpi21kQmlZIyF5jpqd+l/74T3/hMyPgaEl98eKF0lH5k/X1dQoL5fbdv1RXV0vr+jNQEkjPCgFHJMR IQEobqklmZiYHBwemtSh99+zsrJJMM2VTBZ0DpZwqKiqYn5838+v4e1xcnHYCsITNkpIOzbZ688zz589JT093DNTTcGVlRTmJq jd871t1bJeA5lfOwcptVH9/P62trVbH89IbHx9HLhJUsY3HtoEHgt+At7R39fX1CCAzGRoa4tGjR3q1N4G/zOx8fQ+WgN7n58B XNkAIgyEb+j5VQ0kgWCyO7G88gX8BA0iEQE02M2MAAAAASUVORK5CYII=\n<img alt=\"Subreddit Icon\" class=\"_34CfAAowTqdbNDYXz5tBTW _1WX5Y5qFVBTdr6hCPpARDB\" role=\"presentation\" src=\"https://b.thumbs.redditmedia.com/b19-jQLBsVc2-EQfPx5WEQkYIL_clR0mhba4-pHT0AA.png\" style=\"background-color:#349E48\"/>\nhttps://b.thumbs.redditmedia.com/b19-jQLBsVc2-EQfPx5WEQkYIL_clR0mhba4-pHT0AA.png\n<img alt=\"Helpful\" class=\"n08B7PrU01wzgZYIh-s7N\" id=\"awardItem__t3_tjqoh3-award_f44611f1-b89e-46dc-97fe-892280b13b82\" src=\"https://preview.redd.it/award_images/t5_22cerq/klvxk1wggfd41_Helpful.png?width=32&amp;height=32&amp;crop=smart&amp;auto=webp&amp;s=e50908c50d797edd935ba8b5d9f0fb1372ff0bae\"/>\nhttps://preview.redd.it/award_images/t5_22cerq/klvxk1wggfd41_Helpful.png?width=32&height=32&crop=smart&auto=webp&s=e50908c50d797edd935ba8b5d9f0fb1372ff0bae\n<img alt=\"Wholesome\" class=\"n08B7PrU01wzgZYIh-s7N\" id=\"awardItem__t3_tjqoh3-award_5f123e3d-4f48-42f4-9c11-e98b566d5897\" src=\"https://preview.redd.it/award_images/t5_22cerq/5izbv4fn0md41_Wholesome.png?width=32&amp;height=32&amp;crop=smart&amp;auto=webp&amp;s=b3267c9d510c7b06dda6ec7d53cb587b9e822e44\"/>\nhttps://preview.redd.it/award_images/t5_22cerq/5izbv4fn0md41_Wholesome.png?width=32&height=32&crop=smart&auto=webp&s=b3267c9d510c7b06dda6ec7d53cb587b9e822e44\n<img alt=\"Silver\" class=\"n08B7PrU01wzgZYIh-s7N\" id=\"awardItem__t3_tjqoh3-gid_1\" src=\"https://www.redditstatic.com/gold/awards/icon/silver_32.png\"/>\nhttps://www.redditstatic.com/gold/awards/icon/silver_32.png\n<img alt=\"Take My Energy\" class=\"n08B7PrU01wzgZYIh-s7N\" id=\"awardItem__t3_tjqoh3-award_02d9ab2c-162e-4c01-8438-317a016ed3d9\" src=\"https://preview.redd.it/award_images/t5_q0gj4/p4yzxkaed5f61_oldtakemyenergy.png?width=32&amp;height=32&amp;crop=smart&amp;auto=webp&amp;s=6d0c84cf8f78877aafb36d87ffb50d11f569c134\"/>\nhttps://preview.redd.it/award_images/t5_q0gj4/p4yzxkaed5f61_oldtakemyenergy.png?width=32&height=32&crop=smart&auto=webp&s=6d0c84cf8f78877aafb36d87ffb50d11f569c134\n<img alt=\"\" onload=\"(__markFirstPostVisible || function(){})();\" src=\"https://www.redditstatic.com/desktop2x/img/renderTimingPixel.png\" style=\"width: 1px; height: 1px;\"/>\nhttps://www.redditstatic.com/desktop2x/img/renderTimingPixel.png\n<img alt=\"Post image\" class=\"_2_tDEnGMLxpM6uOa2kaDB3 ImageBox-image media-element _1XWObl-3b9tPy64oaG6fax\" src=\"https://preview.redd.it/8bftk8da0uo81.jpg?width=640&amp;crop=smart&amp;auto=webp&amp;s=cb7e36a676984431a91741532be78283224509d8\" style=\"max-height:512px\"/>\nhttps://preview.redd.it/8bftk8da0uo81.jpg?width=640&crop=smart&auto=webp&s=cb7e36a676984431a91741532be78283224509d8\n<img alt=\"Subreddit Icon\" class=\"_34CfAAowTqdbNDYXz5tBTW _1WX5Y5qFVBTdr6hCPpARDB\" role=\"presentation\" src=\"https://a.thumbs.redditmedia.com/kIpBoUR8zJLMQlF8azhN-kSBsjVUidHjvZNLuHDONm8.png\" style=\"background-color:#0079D3\"/>\nhttps://a.thumbs.redditmedia.com/kIpBoUR8zJLMQlF8azhN-kSBsjVUidHjvZNLuHDONm8.png\n<img alt=\"Bravo!\" class=\"n08B7PrU01wzgZYIh-s7N\" id=\"awardItem__t3_tjpeji-award_84276b1e-cc8f-484f-a19c-be6c09adc1a5\" src=\"https://www.redditstatic.com/gold/awards/icon/SnooClapping_32.png\"/>\nhttps://www.redditstatic.com/gold/awards/icon/SnooClapping_32.png\n<img alt=\"hehehehe\" class=\"n08B7PrU01wzgZYIh-s7N\" id=\"awardItem__t3_tjpeji-award_435a5692-f508-4b31-8083-ddc576f26ad3\" src=\"https://www.redditstatic.com/gold/awards/icon/hehehe_b_32.png\"/>\nhttps://www.redditstatic.com/gold/awards/icon/hehehe_b_32.png\n<img alt=\"Helpful\" class=\"n08B7PrU01wzgZYIh-s7N\" id=\"awardItem__t3_tjpeji-award_f44611f1-b89e-46dc-97fe-892280b13b82\" src=\"https://preview.redd.it/award_images/t5_22cerq/klvxk1wggfd41_Helpful.png?width=32&amp;height=32&amp;crop=smart&amp;auto=webp&amp;s=e50908c50d797edd935ba8b5d9f0fb1372ff0bae\"/>\nhttps://preview.redd.it/award_images/t5_22cerq/klvxk1wggfd41_Helpful.png?width=32&height=32&crop=smart&auto=webp&s=e50908c50d797edd935ba8b5d9f0fb1372ff0bae\n<img alt=\"Wholesome\" class=\"n08B7PrU01wzgZYIh-s7N\" id=\"awardItem__t3_tjpeji-award_5f123e3d-4f48-42f4-9c11-e98b566d5897\" src=\"https://preview.redd.it/award_images/t5_22cerq/5izbv4fn0md41_Wholesome.png?width=32&amp;height=32&amp;crop=smart&amp;auto=webp&amp;s=b3267c9d510c7b06dda6ec7d53cb587b9e822e44\"/>\nhttps://preview.redd.it/award_images/t5_22cerq/5izbv4fn0md41_Wholesome.png?width=32&height=32&crop=smart&auto=webp&s=b3267c9d510c7b06dda6ec7d53cb587b9e822e44\n<img alt=\"\" onload=\"(__markFirstPostVisible || function(){})();\" src=\"https://www.redditstatic.com/desktop2x/img/renderTimingPixel.png\" style=\"width: 1px; height: 1px;\"/>\nhttps://www.redditstatic.com/desktop2x/img/renderTimingPixel.png\n<img alt=\"Subreddit Icon\" class=\"_34CfAAowTqdbNDYXz5tBTW _1WX5Y5qFVBTdr6hCPpARDB\" role=\"presentation\" src=\"https://styles.redditmedia.com/t5_2qh1i/styles/communityIcon_tijjpyw1qe201.png\" style=\"background-color:#646D73\"/>\nhttps://styles.redditmedia.com/t5_2qh1i/styles/communityIcon_tijjpyw1qe201.png\n<img alt=\"Lurking\" class=\"n08B7PrU01wzgZYIh-s7N\" id=\"awardItem__t3_tjk4lq-award_59ae34c0-14c8-4b16-a527-e157fac0a6c7\" src=\"https://www.redditstatic.com/gold/awards/icon/Lurking_32.png\"/>\nhttps://www.redditstatic.com/gold/awards/icon/Lurking_32.png\n<img alt=\"Helpful\" class=\"n08B7PrU01wzgZYIh-s7N\" id=\"awardItem__t3_tjk4lq-award_f44611f1-b89e-46dc-97fe-892280b13b82\" src=\"https://preview.redd.it/award_images/t5_22cerq/klvxk1wggfd41_Helpful.png?width=32&amp;height=32&amp;crop=smart&amp;auto=webp&amp;s=e50908c50d797edd935ba8b5d9f0fb1372ff0bae\"/>\nhttps://preview.redd.it/award_images/t5_22cerq/klvxk1wggfd41_Helpful.png?width=32&height=32&crop=smart&auto=webp&s=e50908c50d797edd935ba8b5d9f0fb1372ff0bae\n<img alt=\"Wholesome\" class=\"n08B7PrU01wzgZYIh-s7N\" id=\"awardItem__t3_tjk4lq-award_5f123e3d-4f48-42f4-9c11-e98b566d5897\" src=\"https://preview.redd.it/award_images/t5_22cerq/5izbv4fn0md41_Wholesome.png?width=32&amp;height=32&amp;crop=smart&amp;auto=webp&amp;s=b3267c9d510c7b06dda6ec7d53cb587b9e822e44\"/>\nhttps://preview.redd.it/award_images/t5_22cerq/5izbv4fn0md41_Wholesome.png?width=32&height=32&crop=smart&auto=webp&s=b3267c9d510c7b06dda6ec7d53cb587b9e822e44\n<img alt=\"Silver\" class=\"n08B7PrU01wzgZYIh-s7N\" id=\"awardItem__t3_tjk4lq-gid_1\" src=\"https://www.redditstatic.com/gold/awards/icon/silver_32.png\"/>\nhttps://www.redditstatic.com/gold/awards/icon/silver_32.png\n<img alt=\"All-Seeing Upvote\" class=\"n08B7PrU01wzgZYIh-s7N\" id=\"awardItem__t3_tjk4lq-award_b4ff447e-05a5-42dc-9002-63568807cfe6\" src=\"https://www.redditstatic.com/gold/awards/icon/Illuminati_32.png\"/>\nhttps://www.redditstatic.com/gold/awards/icon/Illuminati_32.png\n<img alt=\"\" onload=\"(__markFirstPostVisible || function(){})();\" src=\"https://www.redditstatic.com/desktop2x/img/renderTimingPixel.png\" style=\"width: 1px; height: 1px;\"/>\nhttps://www.redditstatic.com/desktop2x/img/renderTimingPixel.png\n<img alt=\"Subreddit Icon\" class=\"_34CfAAowTqdbNDYXz5tBTW _1WX5Y5qFVBTdr6hCPpARDB\" role=\"presentation\" src=\"https://b.thumbs.redditmedia.com/ZtyFTkHcUhfrWh6_lKa9FYYv9dCdl6p4kwv-X43voME.png\" style=\"background-color:#349E48\"/>\nhttps://b.thumbs.redditmedia.com/ZtyFTkHcUhfrWh6_lKa9FYYv9dCdl6p4kwv-X43voME.png\n<img alt=\"Helpful\" class=\"n08B7PrU01wzgZYIh-s7N\" id=\"awardItem__t3_tjk8yt-award_f44611f1-b89e-46dc-97fe-892280b13b82\" src=\"https://preview.redd.it/award_images/t5_22cerq/klvxk1wggfd41_Helpful.png?width=32&amp;height=32&amp;crop=smart&amp;auto=webp&amp;s=e50908c50d797edd935ba8b5d9f0fb1372ff0bae\"/>\nhttps://preview.redd.it/award_images/t5_22cerq/klvxk1wggfd41_Helpful.png?width=32&height=32&crop=smart&auto=webp&s=e50908c50d797edd935ba8b5d9f0fb1372ff0bae\n<img alt=\"Wholesome\" class=\"n08B7PrU01wzgZYIh-s7N\" id=\"awardItem__t3_tjk8yt-award_5f123e3d-4f48-42f4-9c11-e98b566d5897\" src=\"https://preview.redd.it/award_images/t5_22cerq/5izbv4fn0md41_Wholesome.png?width=32&amp;height=32&amp;crop=smart&amp;auto=webp&amp;s=b3267c9d510c7b06dda6ec7d53cb587b9e822e44\"/>\nhttps://preview.redd.it/award_images/t5_22cerq/5izbv4fn0md41_Wholesome.png?width=32&height=32&crop=smart&auto=webp&s=b3267c9d510c7b06dda6ec7d53cb587b9e822e44\n<img alt=\"Silver\" class=\"n08B7PrU01wzgZYIh-s7N\" id=\"awardItem__t3_tjk8yt-gid_1\" src=\"https://www.redditstatic.com/gold/awards/icon/silver_32.png\"/>\nhttps://www.redditstatic.com/gold/awards/icon/silver_32.png\n<img alt=\"All-Seeing Upvote\" class=\"n08B7PrU01wzgZYIh-s7N\" id=\"awardItem__t3_tjk8yt-award_b4ff447e-05a5-42dc-9002-63568807cfe6\" src=\"https://www.redditstatic.com/gold/awards/icon/Illuminati_32.png\"/>\nhttps://www.redditstatic.com/gold/awards/icon/Illuminati_32.png\n<img alt=\"\" onload=\"(__markFirstPostVisible || function(){})();\" src=\"https://www.redditstatic.com/desktop2x/img/renderTimingPixel.png\" style=\"width: 1px; height: 1px;\"/>\nhttps://www.redditstatic.com/desktop2x/img/renderTimingPixel.png\n<img alt=\"Post image\" class=\"_2_tDEnGMLxpM6uOa2kaDB3 ImageBox-image media-element _1XWObl-3b9tPy64oaG6fax\" src=\"https://preview.redd.it/5ushnnfijso81.jpg?width=640&amp;crop=smart&amp;auto=webp&amp;s=8881a03d2f0aebee80f3c3434f6993546d14330d\" style=\"max-height:512px\"/>\nhttps://preview.redd.it/5ushnnfijso81.jpg?width=640&crop=smart&auto=webp&s=8881a03d2f0aebee80f3c3434f6993546d14330d\n<img alt=\"Subreddit Icon\" class=\"_34CfAAowTqdbNDYXz5tBTW _1WX5Y5qFVBTdr6hCPpARDB\" role=\"presentation\" src=\"https://styles.redditmedia.com/t5_m0bnr/styles/communityIcon_qanlm185crr71.png\" style=\"background-color:#F54504\"/>\nhttps://styles.redditmedia.com/t5_m0bnr/styles/communityIcon_qanlm185crr71.png\n<img alt=\"Bless Up (Pro)\" class=\"n08B7PrU01wzgZYIh-s7N\" id=\"awardItem__t3_tjrw6c-award_43c43a35-15c5-4f73-91ef-fe538426435a\" src=\"https://preview.redd.it/award_images/t5_22cerq/xe5mw55w5v541_BlessUp.png?width=32&amp;height=32&amp;crop=smart&amp;auto=webp&amp;s=ca7be3872f12da1b8f1a8238e61282501ee856c4\"/>\nhttps://preview.redd.it/award_images/t5_22cerq/xe5mw55w5v541_BlessUp.png?width=32&height=32&crop=smart&auto=webp&s=ca7be3872f12da1b8f1a8238e61282501ee856c4\n<img alt=\"Gold\" class=\"n08B7PrU01wzgZYIh-s7N\" id=\"awardItem__t3_tjrw6c-gid_2\" src=\"https://www.redditstatic.com/gold/awards/icon/gold_32.png\"/>\nhttps://www.redditstatic.com/gold/awards/icon/gold_32.png\n<img alt=\"Helpful\" class=\"n08B7PrU01wzgZYIh-s7N\" id=\"awardItem__t3_tjrw6c-award_f44611f1-b89e-46dc-97fe-892280b13b82\" src=\"https://preview.redd.it/award_images/t5_22cerq/klvxk1wggfd41_Helpful.png?width=32&amp;height=32&amp;crop=smart&amp;auto=webp&amp;s=e50908c50d797edd935ba8b5d9f0fb1372ff0bae\"/>\nhttps://preview.redd.it/award_images/t5_22cerq/klvxk1wggfd41_Helpful.png?width=32&height=32&crop=smart&auto=webp&s=e50908c50d797edd935ba8b5d9f0fb1372ff0bae\n<img alt=\"Wholesome\" class=\"n08B7PrU01wzgZYIh-s7N\" id=\"awardItem__t3_tjrw6c-award_5f123e3d-4f48-42f4-9c11-e98b566d5897\" src=\"https://preview.redd.it/award_images/t5_22cerq/5izbv4fn0md41_Wholesome.png?width=32&amp;height=32&amp;crop=smart&amp;auto=webp&amp;s=b3267c9d510c7b06dda6ec7d53cb587b9e822e44\"/>\nhttps://preview.redd.it/award_images/t5_22cerq/5izbv4fn0md41_Wholesome.png?width=32&height=32&crop=smart&auto=webp&s=b3267c9d510c7b06dda6ec7d53cb587b9e822e44\n<img alt=\"\" onload=\"(__markFirstPostVisible || function(){})();\" src=\"https://www.redditstatic.com/desktop2x/img/renderTimingPixel.png\" style=\"width: 1px; height: 1px;\"/>\nhttps://www.redditstatic.com/desktop2x/img/renderTimingPixel.png\n<img alt=\"Subreddit Icon\" class=\"_34CfAAowTqdbNDYXz5tBTW _1WX5Y5qFVBTdr6hCPpARDB\" role=\"presentation\" src=\"https://styles.redditmedia.com/t5_3hx3r/styles/communityIcon_kkg7izl7pwy61.jpg?format=pjpg&amp;s=767d85209b1214794f4d3f3223ecd1217f5d66e3\" style=\"background-color:#014980\"/>\nhttps://styles.redditmedia.com/t5_3hx3r/styles/communityIcon_kkg7izl7pwy61.jpg?format=pjpg&s=767d85209b1214794f4d3f3223ecd1217f5d66e3\n<img alt=\"Gold\" class=\"n08B7PrU01wzgZYIh-s7N\" id=\"awardItem__t3_tjjks7-gid_2\" src=\"https://www.redditstatic.com/gold/awards/icon/gold_32.png\"/>\nhttps://www.redditstatic.com/gold/awards/icon/gold_32.png\n<img alt=\"Helpful\" class=\"n08B7PrU01wzgZYIh-s7N\" id=\"awardItem__t3_tjjks7-award_f44611f1-b89e-46dc-97fe-892280b13b82\" src=\"https://preview.redd.it/award_images/t5_22cerq/klvxk1wggfd41_Helpful.png?width=32&amp;height=32&amp;crop=smart&amp;auto=webp&amp;s=e50908c50d797edd935ba8b5d9f0fb1372ff0bae\"/>\nhttps://preview.redd.it/award_images/t5_22cerq/klvxk1wggfd41_Helpful.png?width=32&height=32&crop=smart&auto=webp&s=e50908c50d797edd935ba8b5d9f0fb1372ff0bae\n<img alt=\"Wholesome\" class=\"n08B7PrU01wzgZYIh-s7N\" id=\"awardItem__t3_tjjks7-award_5f123e3d-4f48-42f4-9c11-e98b566d5897\" src=\"https://preview.redd.it/award_images/t5_22cerq/5izbv4fn0md41_Wholesome.png?width=32&amp;height=32&amp;crop=smart&amp;auto=webp&amp;s=b3267c9d510c7b06dda6ec7d53cb587b9e822e44\"/>\nhttps://preview.redd.it/award_images/t5_22cerq/5izbv4fn0md41_Wholesome.png?width=32&height=32&crop=smart&auto=webp&s=b3267c9d510c7b06dda6ec7d53cb587b9e822e44\n<img alt=\"Silver\" class=\"n08B7PrU01wzgZYIh-s7N\" id=\"awardItem__t3_tjjks7-gid_1\" src=\"https://www.redditstatic.com/gold/awards/icon/silver_32.png\"/>\nhttps://www.redditstatic.com/gold/awards/icon/silver_32.png\n<img alt=\"\" onload=\"(__markFirstPostVisible || function(){})();\" src=\"https://www.redditstatic.com/desktop2x/img/renderTimingPixel.png\" style=\"width: 1px; height: 1px;\"/>\nhttps://www.redditstatic.com/desktop2x/img/renderTimingPixel.png\n<img alt=\"Post image\" class=\"_2_tDEnGMLxpM6uOa2kaDB3 ImageBox-image media-element _1XWObl-3b9tPy64oaG6fax\" src=\"https://preview.redd.it/oitqx4y2eso81.png?width=640&amp;crop=smart&amp;auto=webp&amp;s=9f7b32148f9219604d9fd73ae9bb67b9cf7ae1ae\" style=\"max-height:512px\"/>\nhttps://preview.redd.it/oitqx4y2eso81.png?width=640&crop=smart&auto=webp&s=9f7b32148f9219604d9fd73ae9bb67b9cf7ae1ae\n"
                }
            ],
            "source": "for link in soup.find_all(\"img\"):\n    print(link)\n    print(link.get(\"src\"))"
        },
        {
            "cell_type": "markdown",
            "metadata": {},
            "source": "### Scrape data from HTML tables"
        },
        {
            "cell_type": "code",
            "execution_count": 117,
            "metadata": {},
            "outputs": [],
            "source": "url = \"https://cf-courses-data.s3.us.cloud-object-storage.appdomain.cloud/IBM-DA0321EN-SkillsNetwork/labs/datasets/HTMLColorCodes.html\"\ndata = requests.get(url).text"
        },
        {
            "cell_type": "code",
            "execution_count": 119,
            "metadata": {},
            "outputs": [],
            "source": "soup=BeautifulSoup(data,\"html.parser\")"
        },
        {
            "cell_type": "code",
            "execution_count": 120,
            "metadata": {},
            "outputs": [],
            "source": "table=soup.find(\"table\")"
        },
        {
            "cell_type": "code",
            "execution_count": 122,
            "metadata": {},
            "outputs": [
                {
                    "name": "stdout",
                    "output_type": "stream",
                    "text": "Color Name--->None\nlightsalmon--->#FFA07A\nsalmon--->#FA8072\ndarksalmon--->#E9967A\nlightcoral--->#F08080\ncoral--->#FF7F50\ntomato--->#FF6347\norangered--->#FF4500\ngold--->#FFD700\norange--->#FFA500\ndarkorange--->#FF8C00\nlightyellow--->#FFFFE0\nlemonchiffon--->#FFFACD\npapayawhip--->#FFEFD5\nmoccasin--->#FFE4B5\npeachpuff--->#FFDAB9\npalegoldenrod--->#EEE8AA\nkhaki--->#F0E68C\ndarkkhaki--->#BDB76B\nyellow--->#FFFF00\nlawngreen--->#7CFC00\nchartreuse--->#7FFF00\nlimegreen--->#32CD32\nlime--->#00FF00\nforestgreen--->#228B22\ngreen--->#008000\npowderblue--->#B0E0E6\nlightblue--->#ADD8E6\nlightskyblue--->#87CEFA\nskyblue--->#87CEEB\ndeepskyblue--->#00BFFF\nlightsteelblue--->#B0C4DE\ndodgerblue--->#1E90FF\n"
                }
            ],
            "source": "for row in table.find_all(\"tr\"):\n    cols=row.find_all(\"td\")\n    color_name=cols[2].string\n    color_code=cols[3].string\n    print(\"{}--->{}\".format(color_name,color_code))"
        },
        {
            "cell_type": "markdown",
            "metadata": {},
            "source": "### Scrape data from HTML tables into a DataFrame using BeautifulSoup and Pandas"
        },
        {
            "cell_type": "code",
            "execution_count": 150,
            "metadata": {},
            "outputs": [],
            "source": "import pandas as pd"
        },
        {
            "cell_type": "code",
            "execution_count": 204,
            "metadata": {},
            "outputs": [],
            "source": "url = \"https://en.wikipedia.org/wiki/World_population\"\ndata  = requests.get(url).text"
        },
        {
            "cell_type": "code",
            "execution_count": 205,
            "metadata": {},
            "outputs": [],
            "source": "soup = BeautifulSoup(data,\"html.parser\")"
        },
        {
            "cell_type": "code",
            "execution_count": 206,
            "metadata": {},
            "outputs": [],
            "source": "tables = soup.find_all(\"table\")"
        },
        {
            "cell_type": "code",
            "execution_count": 207,
            "metadata": {},
            "outputs": [
                {
                    "data": {
                        "text/plain": "26"
                    },
                    "execution_count": 207,
                    "metadata": {},
                    "output_type": "execute_result"
                }
            ],
            "source": "len(tables)"
        },
        {
            "cell_type": "code",
            "execution_count": 217,
            "metadata": {},
            "outputs": [
                {
                    "name": "stdout",
                    "output_type": "stream",
                    "text": "5\n"
                }
            ],
            "source": "for index,table in enumerate(tables):\n    if (\"10 most densely populated countries\" in str(table)):\n        table_index = index\nprint(table_index)"
        },
        {
            "cell_type": "code",
            "execution_count": 218,
            "metadata": {},
            "outputs": [
                {
                    "name": "stdout",
                    "output_type": "stream",
                    "text": "<table class=\"wikitable sortable\" style=\"text-align:right\">\n <caption>\n  10 most densely populated countries\n  <small>\n   (with population above 5 million)\n  </small>\n </caption>\n <tbody>\n  <tr>\n   <th>\n    Rank\n   </th>\n   <th>\n    Country\n   </th>\n   <th>\n    Population\n   </th>\n   <th>\n    Area\n    <br/>\n    <small>\n     (km\n     <sup>\n      2\n     </sup>\n     )\n    </small>\n   </th>\n   <th>\n    Density\n    <br/>\n    <small>\n     (pop/km\n     <sup>\n      2\n     </sup>\n     )\n    </small>\n   </th>\n  </tr>\n  <tr>\n   <td>\n    1\n   </td>\n   <td align=\"left\">\n    <span class=\"flagicon\">\n     <img alt=\"\" class=\"thumbborder\" data-file-height=\"600\" data-file-width=\"900\" decoding=\"async\" height=\"15\" src=\"//upload.wikimedia.org/wikipedia/commons/thumb/4/48/Flag_of_Singapore.svg/23px-Flag_of_Singapore.svg.png\" srcset=\"//upload.wikimedia.org/wikipedia/commons/thumb/4/48/Flag_of_Singapore.svg/35px-Flag_of_Singapore.svg.png 1.5x, //upload.wikimedia.org/wikipedia/commons/thumb/4/48/Flag_of_Singapore.svg/45px-Flag_of_Singapore.svg.png 2x\" width=\"23\"/>\n    </span>\n    <a href=\"/wiki/Singapore\" title=\"Singapore\">\n     Singapore\n    </a>\n   </td>\n   <td>\n    5,704,000\n   </td>\n   <td>\n    710\n   </td>\n   <td>\n    8,033\n   </td>\n  </tr>\n  <tr>\n   <td>\n    2\n   </td>\n   <td align=\"left\">\n    <span class=\"flagicon\">\n     <img alt=\"\" class=\"thumbborder\" data-file-height=\"600\" data-file-width=\"1000\" decoding=\"async\" height=\"14\" src=\"//upload.wikimedia.org/wikipedia/commons/thumb/f/f9/Flag_of_Bangladesh.svg/23px-Flag_of_Bangladesh.svg.png\" srcset=\"//upload.wikimedia.org/wikipedia/commons/thumb/f/f9/Flag_of_Bangladesh.svg/35px-Flag_of_Bangladesh.svg.png 1.5x, //upload.wikimedia.org/wikipedia/commons/thumb/f/f9/Flag_of_Bangladesh.svg/46px-Flag_of_Bangladesh.svg.png 2x\" width=\"23\"/>\n    </span>\n    <a href=\"/wiki/Bangladesh\" title=\"Bangladesh\">\n     Bangladesh\n    </a>\n   </td>\n   <td>\n    172,390,000\n   </td>\n   <td>\n    143,998\n   </td>\n   <td>\n    1,197\n   </td>\n  </tr>\n  <tr>\n   <td>\n    3\n   </td>\n   <td align=\"left\">\n    <p>\n     <span class=\"flagicon\">\n      <img alt=\"\" class=\"thumbborder\" data-file-height=\"600\" data-file-width=\"1200\" decoding=\"async\" height=\"12\" src=\"//upload.wikimedia.org/wikipedia/commons/thumb/0/00/Flag_of_Palestine.svg/23px-Flag_of_Palestine.svg.png\" srcset=\"//upload.wikimedia.org/wikipedia/commons/thumb/0/00/Flag_of_Palestine.svg/35px-Flag_of_Palestine.svg.png 1.5x, //upload.wikimedia.org/wikipedia/commons/thumb/0/00/Flag_of_Palestine.svg/46px-Flag_of_Palestine.svg.png 2x\" width=\"23\"/>\n     </span>\n     <a href=\"/wiki/State_of_Palestine\" title=\"State of Palestine\">\n      Palestine\n     </a>\n    </p>\n   </td>\n   <td>\n    5,266,785\n   </td>\n   <td>\n    6,020\n   </td>\n   <td>\n    847\n   </td>\n  </tr>\n  <tr>\n   <td>\n    4\n   </td>\n   <td align=\"left\">\n    <span class=\"flagicon\">\n     <img alt=\"\" class=\"thumbborder\" data-file-height=\"600\" data-file-width=\"900\" decoding=\"async\" height=\"15\" src=\"//upload.wikimedia.org/wikipedia/commons/thumb/5/59/Flag_of_Lebanon.svg/23px-Flag_of_Lebanon.svg.png\" srcset=\"//upload.wikimedia.org/wikipedia/commons/thumb/5/59/Flag_of_Lebanon.svg/35px-Flag_of_Lebanon.svg.png 1.5x, //upload.wikimedia.org/wikipedia/commons/thumb/5/59/Flag_of_Lebanon.svg/45px-Flag_of_Lebanon.svg.png 2x\" width=\"23\"/>\n    </span>\n    <a href=\"/wiki/Lebanon\" title=\"Lebanon\">\n     Lebanon\n    </a>\n   </td>\n   <td>\n    6,856,000\n   </td>\n   <td>\n    10,452\n   </td>\n   <td>\n    656\n   </td>\n  </tr>\n  <tr>\n   <td>\n    5\n   </td>\n   <td align=\"left\">\n    <span class=\"flagicon\">\n     <img alt=\"\" class=\"thumbborder\" data-file-height=\"600\" data-file-width=\"900\" decoding=\"async\" height=\"15\" src=\"//upload.wikimedia.org/wikipedia/commons/thumb/7/72/Flag_of_the_Republic_of_China.svg/23px-Flag_of_the_Republic_of_China.svg.png\" srcset=\"//upload.wikimedia.org/wikipedia/commons/thumb/7/72/Flag_of_the_Republic_of_China.svg/35px-Flag_of_the_Republic_of_China.svg.png 1.5x, //upload.wikimedia.org/wikipedia/commons/thumb/7/72/Flag_of_the_Republic_of_China.svg/45px-Flag_of_the_Republic_of_China.svg.png 2x\" width=\"23\"/>\n    </span>\n    <a href=\"/wiki/Taiwan\" title=\"Taiwan\">\n     Taiwan\n    </a>\n   </td>\n   <td>\n    23,604,000\n   </td>\n   <td>\n    36,193\n   </td>\n   <td>\n    652\n   </td>\n  </tr>\n  <tr>\n   <td>\n    6\n   </td>\n   <td align=\"left\">\n    <span class=\"flagicon\">\n     <img alt=\"\" class=\"thumbborder\" data-file-height=\"600\" data-file-width=\"900\" decoding=\"async\" height=\"15\" src=\"//upload.wikimedia.org/wikipedia/commons/thumb/0/09/Flag_of_South_Korea.svg/23px-Flag_of_South_Korea.svg.png\" srcset=\"//upload.wikimedia.org/wikipedia/commons/thumb/0/09/Flag_of_South_Korea.svg/35px-Flag_of_South_Korea.svg.png 1.5x, //upload.wikimedia.org/wikipedia/commons/thumb/0/09/Flag_of_South_Korea.svg/45px-Flag_of_South_Korea.svg.png 2x\" width=\"23\"/>\n    </span>\n    <a href=\"/wiki/South_Korea\" title=\"South Korea\">\n     South Korea\n    </a>\n   </td>\n   <td>\n    51,781,000\n   </td>\n   <td>\n    99,538\n   </td>\n   <td>\n    520\n   </td>\n  </tr>\n  <tr>\n   <td>\n    7\n   </td>\n   <td align=\"left\">\n    <span class=\"flagicon\">\n     <img alt=\"\" class=\"thumbborder\" data-file-height=\"720\" data-file-width=\"1080\" decoding=\"async\" height=\"15\" src=\"//upload.wikimedia.org/wikipedia/commons/thumb/1/17/Flag_of_Rwanda.svg/23px-Flag_of_Rwanda.svg.png\" srcset=\"//upload.wikimedia.org/wikipedia/commons/thumb/1/17/Flag_of_Rwanda.svg/35px-Flag_of_Rwanda.svg.png 1.5x, //upload.wikimedia.org/wikipedia/commons/thumb/1/17/Flag_of_Rwanda.svg/45px-Flag_of_Rwanda.svg.png 2x\" width=\"23\"/>\n    </span>\n    <a href=\"/wiki/Rwanda\" title=\"Rwanda\">\n     Rwanda\n    </a>\n   </td>\n   <td>\n    12,374,000\n   </td>\n   <td>\n    26,338\n   </td>\n   <td>\n    470\n   </td>\n  </tr>\n  <tr>\n   <td>\n    8\n   </td>\n   <td align=\"left\">\n    <span class=\"flagicon\">\n     <img alt=\"\" class=\"thumbborder\" data-file-height=\"600\" data-file-width=\"1000\" decoding=\"async\" height=\"14\" src=\"//upload.wikimedia.org/wikipedia/commons/thumb/5/56/Flag_of_Haiti.svg/23px-Flag_of_Haiti.svg.png\" srcset=\"//upload.wikimedia.org/wikipedia/commons/thumb/5/56/Flag_of_Haiti.svg/35px-Flag_of_Haiti.svg.png 1.5x, //upload.wikimedia.org/wikipedia/commons/thumb/5/56/Flag_of_Haiti.svg/46px-Flag_of_Haiti.svg.png 2x\" width=\"23\"/>\n    </span>\n    <a href=\"/wiki/Haiti\" title=\"Haiti\">\n     Haiti\n    </a>\n   </td>\n   <td>\n    11,578,000\n   </td>\n   <td>\n    27,065\n   </td>\n   <td>\n    428\n   </td>\n  </tr>\n  <tr>\n   <td>\n    9\n   </td>\n   <td align=\"left\">\n    <span class=\"flagicon\">\n     <img alt=\"\" class=\"thumbborder\" data-file-height=\"600\" data-file-width=\"900\" decoding=\"async\" height=\"15\" src=\"//upload.wikimedia.org/wikipedia/commons/thumb/2/20/Flag_of_the_Netherlands.svg/23px-Flag_of_the_Netherlands.svg.png\" srcset=\"//upload.wikimedia.org/wikipedia/commons/thumb/2/20/Flag_of_the_Netherlands.svg/35px-Flag_of_the_Netherlands.svg.png 1.5x, //upload.wikimedia.org/wikipedia/commons/thumb/2/20/Flag_of_the_Netherlands.svg/45px-Flag_of_the_Netherlands.svg.png 2x\" width=\"23\"/>\n    </span>\n    <a href=\"/wiki/Netherlands\" title=\"Netherlands\">\n     Netherlands\n    </a>\n   </td>\n   <td>\n    17,700,000\n   </td>\n   <td>\n    41,526\n   </td>\n   <td>\n    426\n   </td>\n  </tr>\n  <tr>\n   <td>\n    10\n   </td>\n   <td align=\"left\">\n    <span class=\"flagicon\">\n     <img alt=\"\" class=\"thumbborder\" data-file-height=\"800\" data-file-width=\"1100\" decoding=\"async\" height=\"15\" src=\"//upload.wikimedia.org/wikipedia/commons/thumb/d/d4/Flag_of_Israel.svg/21px-Flag_of_Israel.svg.png\" srcset=\"//upload.wikimedia.org/wikipedia/commons/thumb/d/d4/Flag_of_Israel.svg/32px-Flag_of_Israel.svg.png 1.5x, //upload.wikimedia.org/wikipedia/commons/thumb/d/d4/Flag_of_Israel.svg/41px-Flag_of_Israel.svg.png 2x\" width=\"21\"/>\n    </span>\n    <a href=\"/wiki/Israel\" title=\"Israel\">\n     Israel\n    </a>\n   </td>\n   <td>\n    9,490,000\n   </td>\n   <td>\n    22,072\n   </td>\n   <td>\n    430\n   </td>\n  </tr>\n </tbody>\n</table>\n\n"
                }
            ],
            "source": "print(tables[table_index].prettify())"
        },
        {
            "cell_type": "code",
            "execution_count": 219,
            "metadata": {},
            "outputs": [
                {
                    "data": {
                        "text/html": "<div>\n<style scoped>\n    .dataframe tbody tr th:only-of-type {\n        vertical-align: middle;\n    }\n\n    .dataframe tbody tr th {\n        vertical-align: top;\n    }\n\n    .dataframe thead th {\n        text-align: right;\n    }\n</style>\n<table border=\"1\" class=\"dataframe\">\n  <thead>\n    <tr style=\"text-align: right;\">\n      <th></th>\n      <th>Rank</th>\n      <th>Country</th>\n      <th>Population</th>\n      <th>Area</th>\n      <th>Density</th>\n    </tr>\n  </thead>\n  <tbody>\n    <tr>\n      <th>0</th>\n      <td>1</td>\n      <td>Singapore</td>\n      <td>5,704,000</td>\n      <td>710</td>\n      <td>8,033</td>\n    </tr>\n    <tr>\n      <th>1</th>\n      <td>2</td>\n      <td>Bangladesh</td>\n      <td>172,390,000</td>\n      <td>143,998</td>\n      <td>1,197</td>\n    </tr>\n    <tr>\n      <th>2</th>\n      <td>3</td>\n      <td>\\n\u00a0Palestine\\n\\n</td>\n      <td>5,266,785</td>\n      <td>6,020</td>\n      <td>847</td>\n    </tr>\n    <tr>\n      <th>3</th>\n      <td>4</td>\n      <td>Lebanon</td>\n      <td>6,856,000</td>\n      <td>10,452</td>\n      <td>656</td>\n    </tr>\n    <tr>\n      <th>4</th>\n      <td>5</td>\n      <td>Taiwan</td>\n      <td>23,604,000</td>\n      <td>36,193</td>\n      <td>652</td>\n    </tr>\n    <tr>\n      <th>5</th>\n      <td>6</td>\n      <td>South Korea</td>\n      <td>51,781,000</td>\n      <td>99,538</td>\n      <td>520</td>\n    </tr>\n    <tr>\n      <th>6</th>\n      <td>7</td>\n      <td>Rwanda</td>\n      <td>12,374,000</td>\n      <td>26,338</td>\n      <td>470</td>\n    </tr>\n    <tr>\n      <th>7</th>\n      <td>8</td>\n      <td>Haiti</td>\n      <td>11,578,000</td>\n      <td>27,065</td>\n      <td>428</td>\n    </tr>\n    <tr>\n      <th>8</th>\n      <td>9</td>\n      <td>Netherlands</td>\n      <td>17,700,000</td>\n      <td>41,526</td>\n      <td>426</td>\n    </tr>\n    <tr>\n      <th>9</th>\n      <td>10</td>\n      <td>Israel</td>\n      <td>9,490,000</td>\n      <td>22,072</td>\n      <td>430</td>\n    </tr>\n  </tbody>\n</table>\n</div>",
                        "text/plain": "  Rank           Country   Population     Area Density\n0    1        \u00a0Singapore    5,704,000      710   8,033\n1    2       \u00a0Bangladesh  172,390,000  143,998   1,197\n2    3  \\n\u00a0Palestine\\n\\n    5,266,785    6,020     847\n3    4          \u00a0Lebanon    6,856,000   10,452     656\n4    5           \u00a0Taiwan   23,604,000   36,193     652\n5    6      \u00a0South Korea   51,781,000   99,538     520\n6    7           \u00a0Rwanda   12,374,000   26,338     470\n7    8            \u00a0Haiti   11,578,000   27,065     428\n8    9      \u00a0Netherlands   17,700,000   41,526     426\n9   10           \u00a0Israel    9,490,000   22,072     430"
                    },
                    "execution_count": 219,
                    "metadata": {},
                    "output_type": "execute_result"
                }
            ],
            "source": "population_data = pd.DataFrame(columns=[\"Rank\", \"Country\", \"Population\", \"Area\", \"Density\"])\n\nfor row in tables[table_index].tbody.find_all(\"tr\"):\n    col = row.find_all(\"td\")\n    if (col != []):\n        rank = col[0].text\n        country = col[1].text\n        population = col[2].text.strip()\n        area = col[3].text.strip()\n        density = col[4].text.strip()\n        population_data = population_data.append({\"Rank\":rank, \"Country\":country, \"Population\":population, \"Area\":area, \"Density\":density}, ignore_index=True)\n\npopulation_data"
        },
        {
            "cell_type": "markdown",
            "metadata": {},
            "source": "### Scrape data from HTML tables into a DataFrame using BeautifulSoup and read_html"
        },
        {
            "cell_type": "code",
            "execution_count": 227,
            "metadata": {},
            "outputs": [
                {
                    "data": {
                        "text/plain": "[   Rank      Country  Population  Area(km2)  Density(pop/km2)\n 0     1    Singapore     5704000        710              8033\n 1     2   Bangladesh   172390000     143998              1197\n 2     3    Palestine     5266785       6020               847\n 3     4      Lebanon     6856000      10452               656\n 4     5       Taiwan    23604000      36193               652\n 5     6  South Korea    51781000      99538               520\n 6     7       Rwanda    12374000      26338               470\n 7     8        Haiti    11578000      27065               428\n 8     9  Netherlands    17700000      41526               426\n 9    10       Israel     9490000      22072               430]"
                    },
                    "execution_count": 227,
                    "metadata": {},
                    "output_type": "execute_result"
                }
            ],
            "source": "pd.read_html(str(tables[5]), flavor =\"bs4\")"
        },
        {
            "cell_type": "code",
            "execution_count": 228,
            "metadata": {},
            "outputs": [
                {
                    "data": {
                        "text/plain": "[                                                    #  \\\n 0                                                   1   \n 1                                                   2   \n 2                                                   3   \n 3                                                   4   \n 4                                                   5   \n 5                                                   6   \n 6                                                   7   \n 7                                                   8   \n 8                                                   9   \n 9                                                  10   \n 10                                                NaN   \n 11  Notes: .mw-parser-output .reflist{font-size:90...   \n \n                               Most populous countries  \\\n 0                                            China[B]   \n 1                                               India   \n 2                                       United States   \n 3                                           Indonesia   \n 4                                            Pakistan   \n 5                                              Brazil   \n 6                                             Nigeria   \n 7                                          Bangladesh   \n 8                                              Russia   \n 9                                              Mexico   \n 10                                        World total   \n 11  Notes: .mw-parser-output .reflist{font-size:90...   \n \n                                                  2000  \\\n 0                                                1270   \n 1                                                1053   \n 2                                                 283   \n 3                                                 212   \n 4                                                 136   \n 5                                                 176   \n 6                                                 123   \n 7                                                 131   \n 8                                                 146   \n 9                                                 103   \n 10                                               6127   \n 11  Notes: .mw-parser-output .reflist{font-size:90...   \n \n                                                  2015  \\\n 0                                                1376   \n 1                                                1311   \n 2                                                 322   \n 3                                                 258   \n 4                                                 208   \n 5                                                 206   \n 6                                                 182   \n 7                                                 161   \n 8                                                 146   \n 9                                                 127   \n 10                                               7349   \n 11  Notes: .mw-parser-output .reflist{font-size:90...   \n \n                                               2030[A]  \n 0                                                1416  \n 1                                                1528  \n 2                                                 356  \n 3                                                 295  \n 4                                                 245  \n 5                                                 228  \n 6                                                 263  \n 7                                                 186  \n 8                                                 149  \n 9                                                 148  \n 10                                               8501  \n 11  Notes: .mw-parser-output .reflist{font-size:90...  ]"
                    },
                    "execution_count": 228,
                    "metadata": {},
                    "output_type": "execute_result"
                }
            ],
            "source": "# we can also see the other tables in the wiki list by changing the index number\n\npd.read_html(str(tables[0]), flavor =\"bs4\")"
        },
        {
            "cell_type": "code",
            "execution_count": 230,
            "metadata": {},
            "outputs": [
                {
                    "data": {
                        "text/plain": "[  World population milestones in billions (Worldometers estimates)        \\\n                                                         Population     1   \n 0                                               Year                1804   \n 1                                      Years elapsed                   \u2014   \n \n                                                          \n       2     3     4     5     6     7     8     9    10  \n 0  1927  1960  1974  1987  1999  2011  2023  2037  2056  \n 1   123    33    14    13    12    12    12    14    19  ]"
                    },
                    "execution_count": 230,
                    "metadata": {},
                    "output_type": "execute_result"
                }
            ],
            "source": "pd.read_html(str(tables[2]), flavor =\"bs4\")"
        },
        {
            "cell_type": "code",
            "execution_count": 231,
            "metadata": {},
            "outputs": [
                {
                    "data": {
                        "text/plain": "[   Rank        Country  Population % of world         Date  \\\n 0     1          China  1412397440      17.8%  17 Mar 2022   \n 1     2          India  1374305400      17.3%  17 Mar 2022   \n 2     3  United States   332566652      4.19%  17 Mar 2022   \n 3     4      Indonesia   269603400      3.40%   1 Jul 2020   \n 4     5       Pakistan   220892331      2.78%   1 Jul 2020   \n 5     6         Brazil   214389640      2.70%  17 Mar 2022   \n 6     7        Nigeria   206139587      2.60%   1 Jul 2020   \n 7     8     Bangladesh   172388884      2.17%  17 Mar 2022   \n 8     9         Russia   146748590      1.85%   1 Jan 2020   \n 9    10         Mexico   127792286      1.61%   1 Jul 2020   \n \n            Source(official or UN)  \n 0   National population clock[91]  \n 1   National population clock[92]  \n 2   National population clock[93]  \n 3  National annual projection[94]  \n 4               UN Projection[95]  \n 5   National population clock[96]  \n 6               UN Projection[95]  \n 7   National population clock[97]  \n 8    National annual estimate[98]  \n 9  National annual projection[99]  ]"
                    },
                    "execution_count": 231,
                    "metadata": {},
                    "output_type": "execute_result"
                }
            ],
            "source": "pd.read_html(str(tables[4]), flavor =\"bs4\")"
        },
        {
            "cell_type": "code",
            "execution_count": 232,
            "metadata": {},
            "outputs": [
                {
                    "data": {
                        "text/html": "<div>\n<style scoped>\n    .dataframe tbody tr th:only-of-type {\n        vertical-align: middle;\n    }\n\n    .dataframe tbody tr th {\n        vertical-align: top;\n    }\n\n    .dataframe thead th {\n        text-align: right;\n    }\n</style>\n<table border=\"1\" class=\"dataframe\">\n  <thead>\n    <tr style=\"text-align: right;\">\n      <th></th>\n      <th>Rank</th>\n      <th>Country</th>\n      <th>Population</th>\n      <th>Area(km2)</th>\n      <th>Density(pop/km2)</th>\n    </tr>\n  </thead>\n  <tbody>\n    <tr>\n      <th>0</th>\n      <td>1</td>\n      <td>Singapore</td>\n      <td>5704000</td>\n      <td>710</td>\n      <td>8033</td>\n    </tr>\n    <tr>\n      <th>1</th>\n      <td>2</td>\n      <td>Bangladesh</td>\n      <td>172390000</td>\n      <td>143998</td>\n      <td>1197</td>\n    </tr>\n    <tr>\n      <th>2</th>\n      <td>3</td>\n      <td>Palestine</td>\n      <td>5266785</td>\n      <td>6020</td>\n      <td>847</td>\n    </tr>\n    <tr>\n      <th>3</th>\n      <td>4</td>\n      <td>Lebanon</td>\n      <td>6856000</td>\n      <td>10452</td>\n      <td>656</td>\n    </tr>\n    <tr>\n      <th>4</th>\n      <td>5</td>\n      <td>Taiwan</td>\n      <td>23604000</td>\n      <td>36193</td>\n      <td>652</td>\n    </tr>\n    <tr>\n      <th>5</th>\n      <td>6</td>\n      <td>South Korea</td>\n      <td>51781000</td>\n      <td>99538</td>\n      <td>520</td>\n    </tr>\n    <tr>\n      <th>6</th>\n      <td>7</td>\n      <td>Rwanda</td>\n      <td>12374000</td>\n      <td>26338</td>\n      <td>470</td>\n    </tr>\n    <tr>\n      <th>7</th>\n      <td>8</td>\n      <td>Haiti</td>\n      <td>11578000</td>\n      <td>27065</td>\n      <td>428</td>\n    </tr>\n    <tr>\n      <th>8</th>\n      <td>9</td>\n      <td>Netherlands</td>\n      <td>17700000</td>\n      <td>41526</td>\n      <td>426</td>\n    </tr>\n    <tr>\n      <th>9</th>\n      <td>10</td>\n      <td>Israel</td>\n      <td>9490000</td>\n      <td>22072</td>\n      <td>430</td>\n    </tr>\n  </tbody>\n</table>\n</div>",
                        "text/plain": "   Rank      Country  Population  Area(km2)  Density(pop/km2)\n0     1    Singapore     5704000        710              8033\n1     2   Bangladesh   172390000     143998              1197\n2     3    Palestine     5266785       6020               847\n3     4      Lebanon     6856000      10452               656\n4     5       Taiwan    23604000      36193               652\n5     6  South Korea    51781000      99538               520\n6     7       Rwanda    12374000      26338               470\n7     8        Haiti    11578000      27065               428\n8     9  Netherlands    17700000      41526               426\n9    10       Israel     9490000      22072               430"
                    },
                    "execution_count": 232,
                    "metadata": {},
                    "output_type": "execute_result"
                }
            ],
            "source": "#read_html always returned a list of DF, so we must pick the ones we want\n\npopulation_data_read_html = pd.read_html(str(tables[5]), flavor='bs4')[0]\n\npopulation_data_read_html"
        },
        {
            "cell_type": "code",
            "execution_count": 234,
            "metadata": {},
            "outputs": [
                {
                    "data": {
                        "text/html": "<div>\n<style scoped>\n    .dataframe tbody tr th:only-of-type {\n        vertical-align: middle;\n    }\n\n    .dataframe tbody tr th {\n        vertical-align: top;\n    }\n\n    .dataframe thead tr th {\n        text-align: left;\n    }\n</style>\n<table border=\"1\" class=\"dataframe\">\n  <thead>\n    <tr>\n      <th></th>\n      <th colspan=\"11\" halign=\"left\">World population milestones in billions (Worldometers estimates)</th>\n    </tr>\n    <tr>\n      <th></th>\n      <th>Population</th>\n      <th>1</th>\n      <th>2</th>\n      <th>3</th>\n      <th>4</th>\n      <th>5</th>\n      <th>6</th>\n      <th>7</th>\n      <th>8</th>\n      <th>9</th>\n      <th>10</th>\n    </tr>\n  </thead>\n  <tbody>\n    <tr>\n      <th>0</th>\n      <td>Year</td>\n      <td>1804</td>\n      <td>1927</td>\n      <td>1960</td>\n      <td>1974</td>\n      <td>1987</td>\n      <td>1999</td>\n      <td>2011</td>\n      <td>2023</td>\n      <td>2037</td>\n      <td>2056</td>\n    </tr>\n    <tr>\n      <th>1</th>\n      <td>Years elapsed</td>\n      <td>\u2014</td>\n      <td>123</td>\n      <td>33</td>\n      <td>14</td>\n      <td>13</td>\n      <td>12</td>\n      <td>12</td>\n      <td>12</td>\n      <td>14</td>\n      <td>19</td>\n    </tr>\n  </tbody>\n</table>\n</div>",
                        "text/plain": "  World population milestones in billions (Worldometers estimates)        \\\n                                                        Population     1   \n0                                               Year                1804   \n1                                      Years elapsed                   \u2014   \n\n                                                         \n      2     3     4     5     6     7     8     9    10  \n0  1927  1960  1974  1987  1999  2011  2023  2037  2056  \n1   123    33    14    13    12    12    12    14    19  "
                    },
                    "execution_count": 234,
                    "metadata": {},
                    "output_type": "execute_result"
                }
            ],
            "source": "# We can also use the match parameter to specify the table we want instead of the index\n\npd.read_html(url, match=\"World population milestones in billions \", flavor='bs4')[0]"
        }
    ],
    "metadata": {
        "kernelspec": {
            "display_name": "Python 3.9",
            "language": "python",
            "name": "python3"
        },
        "language_info": {
            "codemirror_mode": {
                "name": "ipython",
                "version": 3
            },
            "file_extension": ".py",
            "mimetype": "text/x-python",
            "name": "python",
            "nbconvert_exporter": "python",
            "pygments_lexer": "ipython3",
            "version": "3.9.7"
        }
    },
    "nbformat": 4,
    "nbformat_minor": 1
}